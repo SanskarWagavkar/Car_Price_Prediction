{
 "cells": [
  {
   "cell_type": "code",
   "execution_count": 1,
   "metadata": {
    "ExecuteTime": {
     "end_time": "2021-07-26T21:08:50.578495Z",
     "start_time": "2021-07-26T21:08:43.252559Z"
    }
   },
   "outputs": [],
   "source": [
    "import joblib"
   ]
  },
  {
   "cell_type": "code",
   "execution_count": 3,
   "metadata": {
    "ExecuteTime": {
     "end_time": "2021-07-26T21:10:19.648720Z",
     "start_time": "2021-07-26T21:10:19.636679Z"
    }
   },
   "outputs": [],
   "source": [
    "ml = joblib.load(\"model_in_joblib\")"
   ]
  },
  {
   "cell_type": "code",
   "execution_count": 9,
   "metadata": {
    "ExecuteTime": {
     "end_time": "2021-07-26T21:15:37.457365Z",
     "start_time": "2021-07-26T21:14:56.893863Z"
    }
   },
   "outputs": [
    {
     "name": "stdout",
     "output_type": "stream",
     "text": [
      "Enter How Many Km Driven Car You Want :- 35000\n",
      "How Many Owner :- 2\n",
      "Mileage in kmpl :- 27.28\n",
      "How Many CC Car You Want :-1047\n",
      "Enter BHP :- 69\n",
      "How Many Seats You Want :- 5\n",
      "How old :- 5\n",
      "1.CNG \n",
      "2.Diesel \n",
      "3.LPG \n",
      "4.Petrol \n",
      "Enter Here :- Diesel\n",
      "1.Automatic \n",
      "2.Manual \n",
      "Enter Here :- Manual\n"
     ]
    }
   ],
   "source": [
    "user_km_driver = int(input(\"Enter How Many Km Driven Car You Want :- \"))\n",
    "user_owner = float(input(\"How Many Owner :- \"))\n",
    "user_mileage = float(input(\"Mileage in kmpl :- \"))\n",
    "user_engine = float(input(\"How Many CC Car You Want :-\"))\n",
    "user_power = float(input(\"Enter BHP :- \"))\n",
    "user_seats = float(input(\"How Many Seats You Want :- \"))\n",
    "user_age = int(input(\"How old :- \"))\n",
    "user_fuel = input(\"1.CNG \\n2.Diesel \\n3.LPG \\n4.Petrol \\nEnter Here :- \")\n",
    "user_transmission = input(\"1.Automatic \\n2.Manual \\nEnter Here :- \")\n",
    "\n",
    "if user_fuel == \"CNG\":\n",
    "    if user_transmission == \"Automatic\":\n",
    "        preditcion = [user_km_driver,user_owner,user_mileage,user_engine,user_power,user_seats,user_age,1,0,0,0,1,0]\n",
    "    if user_transmission == \"Manual\":\n",
    "        preditcion = [user_km_driver,user_owner,user_mileage,user_engine,user_power,user_seats,user_age,1,0,0,0,0,1]\n",
    "if user_fuel == \"Diesel\":\n",
    "    if user_transmission == \"Automatic\":\n",
    "        preditcion = [user_km_driver,user_owner,user_mileage,user_engine,user_power,user_seats,user_age,0,1,0,0,1,0]\n",
    "    if user_transmission == \"Manual\":\n",
    "        preditcion = [user_km_driver,user_owner,user_mileage,user_engine,user_power,user_seats,user_age,0,1,0,0,0,1]\n",
    "if user_fuel == \"LPG\":\n",
    "    if user_transmission == \"Automatic\":\n",
    "        preditcion = [user_km_driver,user_owner,user_mileage,user_engine,user_power,user_seats,user_age,0,0,1,0,1,0]\n",
    "    if user_transmission == \"Manual\":\n",
    "        preditcion = [user_km_driver,user_owner,user_mileage,user_engine,user_power,user_seats,user_age,0,0,1,0,0,1]\n",
    "if user_fuel == \"Petrol\":\n",
    "    if user_transmission == \"Automatic\":\n",
    "        preditcion = [user_km_driver,user_owner,user_mileage,user_engine,user_power,user_seats,user_age,0,0,0,1,1,0]\n",
    "    if user_transmission == \"Manual\":\n",
    "        preditcion = [user_km_driver,user_owner,user_mileage,user_engine,user_power,user_seats,user_age,0,0,0,1,0,1]"
   ]
  },
  {
   "cell_type": "code",
   "execution_count": 10,
   "metadata": {
    "ExecuteTime": {
     "end_time": "2021-07-26T21:15:40.819326Z",
     "start_time": "2021-07-26T21:15:40.811350Z"
    }
   },
   "outputs": [
    {
     "data": {
      "text/plain": [
       "array([400000.])"
      ]
     },
     "execution_count": 10,
     "metadata": {},
     "output_type": "execute_result"
    }
   ],
   "source": [
    "ml.predict([preditcion])"
   ]
  }
 ],
 "metadata": {
  "kernelspec": {
   "display_name": "Python 3",
   "language": "python",
   "name": "python3"
  },
  "language_info": {
   "codemirror_mode": {
    "name": "ipython",
    "version": 3
   },
   "file_extension": ".py",
   "mimetype": "text/x-python",
   "name": "python",
   "nbconvert_exporter": "python",
   "pygments_lexer": "ipython3",
   "version": "3.8.5"
  },
  "toc": {
   "base_numbering": 1,
   "nav_menu": {},
   "number_sections": true,
   "sideBar": true,
   "skip_h1_title": false,
   "title_cell": "Table of Contents",
   "title_sidebar": "Contents",
   "toc_cell": false,
   "toc_position": {},
   "toc_section_display": true,
   "toc_window_display": false
  }
 },
 "nbformat": 4,
 "nbformat_minor": 4
}
